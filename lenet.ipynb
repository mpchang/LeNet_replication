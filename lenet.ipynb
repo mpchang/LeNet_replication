{
 "cells": [
  {
   "cell_type": "code",
   "execution_count": 110,
   "metadata": {},
   "outputs": [],
   "source": [
    "import matplotlib.pyplot as plt\n",
    "import torch\n",
    "import torch.nn.functional as F\n",
    "import math\n",
    "from memory_profiler import profile \n",
    "import numpy as np"
   ]
  },
  {
   "cell_type": "code",
   "execution_count": 5,
   "metadata": {},
   "outputs": [],
   "source": [
    "# This script will train a neural network to identify numbers from images taken \n",
    "# from zip codes written on envelopes from the USPS. \n",
    "# \n",
    "# Tasks: \n",
    "# 1) Import the training and test data \n",
    "# 2) Plot a few candidate data points \n",
    "# 3) Build a convolutional neural net model to train on the test data \n",
    "# 4) Inspect the training and test losses \n",
    "# 5) Observe error rate and error rate, given a particular rejection rate. \n",
    "# 6) Observe the activation and gradient statistics of the model\n",
    "# 7) Sample the model. "
   ]
  },
  {
   "cell_type": "code",
   "execution_count": 61,
   "metadata": {},
   "outputs": [
    {
     "name": "stdout",
     "output_type": "stream",
     "text": [
      "Training Data Length = 7291, Test Data Length = 2007\n"
     ]
    }
   ],
   "source": [
    "Xtr, Xte = [], []\n",
    "Ytr, Yte = [], []\n",
    "\n",
    "with open(\"dataset/zip.train\", 'r') as f: \n",
    "    dataset = f.read().splitlines()\n",
    "    for data in dataset: \n",
    "        data = data.split()\n",
    "        Ytr.append(int(float(data[0])))\n",
    "        Xtr.append([float(d) for d in data[1:]])\n",
    "    Ytr = torch.tensor(Ytr)\n",
    "    Xtr = torch.tensor(Xtr)\n",
    "    Xtr = Xtr.view(Xtr.shape[0], 1, 16, 16)   # format as a 4D column as expected by Conv2d\n",
    "    \n",
    "with open(\"dataset/zip.test\", \"r\") as f: \n",
    "    dataset = f.read().splitlines()\n",
    "    for data in dataset: \n",
    "        data = data.split()\n",
    "        Yte.append(int(float(data[0])))\n",
    "        Xte.append([float(d) for d in data[1:]])\n",
    "    Yte = torch.tensor(Yte)\n",
    "    Xte = torch.tensor(Xte)\n",
    "    Xte = Xte.view(Xte.shape[0], 1, 16, 16)   # format as a 4D column as expected by Conv2d\n",
    "\n",
    "print(f\"Training Data Length = {len(Xtr)}, Test Data Length = {len(Xte)}\")"
   ]
  },
  {
   "cell_type": "code",
   "execution_count": 63,
   "metadata": {},
   "outputs": [
    {
     "name": "stdout",
     "output_type": "stream",
     "text": [
      "Examples from the Training Set\n"
     ]
    },
    {
     "data": {
      "image/png": "[encoded data removed]",
      "text/plain": [
       "<Figure size 432x288 with 9 Axes>"
      ]
     },
     "metadata": {
      "needs_background": "light"
     },
     "output_type": "display_data"
    }
   ],
   "source": [
    "print(\"Examples from the Training Set\")\n",
    "fig, axs = plt.subplots(3,3)\n",
    "ix = torch.randint(0, Xtr.shape[0], (9, ))\n",
    "i = 0\n",
    "for row in axs: \n",
    "    for col in row: \n",
    "        col.imshow(Xtr[ix[i]].squeeze())\n",
    "        i += 1"
   ]
  },
  {
   "cell_type": "code",
   "execution_count": 195,
   "metadata": {},
   "outputs": [],
   "source": [
    " # Create Layer, BatchNorm, Tanh classes\n",
    "\n",
    "# ------------------------------------------------------------------------------\n",
    "class Linear: \n",
    "    def __init__(self, fanin, fanout, bias=False):\n",
    "        self.weight = torch.randn([fanin, fanout]) / (fanin**0.5)\n",
    "        self.bias = torch.zeros(fanout) if bias else None\n",
    "    \n",
    "    def __repr__(self):\n",
    "        return f\"Linear({tuple(self.weight.shape)})\"\n",
    "    \n",
    "    def __call__(self, x):\n",
    "        self.out = x @ self.weight\n",
    "        if self.bias is not None: \n",
    "            return self.out + self.bias\n",
    "        else: \n",
    "            return self.out\n",
    "        \n",
    "    def parameters(self):\n",
    "        return [self.weight] + ([] if self.bias is None else [self.bias])\n",
    "\n",
    "# ------------------------------------------------------------------------------\n",
    "class BatchNorm1d: \n",
    "    def __init__(self, dim, momentum=0.1, tol=1e-5, training=True):\n",
    "        # dim is the number of examples used in the batch \n",
    "        self.momentum = momentum \n",
    "        self.training = training\n",
    "        self.dim = dim \n",
    "        self.tol = tol\n",
    "        self.gamma = torch.ones(dim)\n",
    "        self.beta = torch.zeros(dim)\n",
    "        self.running_mean = torch.zeros(dim)\n",
    "        self.running_var = torch.ones(dim) \n",
    "    \n",
    "    def __repr__(self):\n",
    "        return f\"BatchNorm1d[({self.dim}, {self.momentum}) | {self.training}]\"\n",
    "    \n",
    "    def __call__(self, x): \n",
    "        if self.training: \n",
    "            if x.ndim == 2: \n",
    "                dim = 0\n",
    "            elif x.ndim == 3: \n",
    "                dim = (0, 1)\n",
    "            xmean = x.mean(dim, keepdims=True)\n",
    "            xvar = x.var(dim, keepdims=True, correction=1) # bessel's correction \n",
    "            self.out = self.gamma * (x - xmean) * (xvar + self.tol) ** (-0.5) + self.beta\n",
    "            with torch.no_grad(): \n",
    "                self.running_mean = self.momentum * xmean + (1-self.momentum) * self.running_mean\n",
    "                self.running_var = self.momentum * xvar + (1-self.momentum) * self.running_var\n",
    "            \n",
    "        else: \n",
    "            self.out = self.gamma * (x - self.running_mean) * (self.running_var + self.tol) ** (-0.5) + self.beta\n",
    "        \n",
    "        return self.out\n",
    "    \n",
    "    def parameters(self):\n",
    "        return [self.gamma, self.beta]\n",
    "\n",
    "# ------------------------------------------------------------------------------\n",
    "class Tanh:\n",
    "    def __repr__(self):\n",
    "        return f\"Tanh\"\n",
    "    \n",
    "    def __call__(self, x): \n",
    "        self.out = torch.tanh(x)\n",
    "        return self.out\n",
    "    \n",
    "    def parameters(self):\n",
    "        return []\n",
    "    \n",
    "    \n",
    "# ------------------------------------------------------------------------------\n",
    "class Conv2d: \n",
    "    def __init__(self, channels_in, channels_out, kernel_size, stride, padding, bias=True): \n",
    "        self.channels_in = channels_in\n",
    "        self.channels_out = channels_out\n",
    "        self.kernel_size = kernel_size\n",
    "        self.padding = padding\n",
    "        if isinstance(self.padding, int): \n",
    "            self.padding = (padding, padding)   # symmetrical padding is required \n",
    "        self.stride = stride\n",
    "        if isinstance(self.stride, int): \n",
    "            self.stride = (stride, stride)\n",
    "        if isinstance(self.kernel_size, int): \n",
    "            self.kernel_size = (kernel_size, kernel_size)\n",
    "        \n",
    "        fanin = channels_in * math.prod(kernel_size)\n",
    "        self.weight = torch.randn(channels_out, self.kernel_size[0] * self.kernel_size[1] * channels_in) / (fanin)**0.5\n",
    "        self.bias = torch.randn(channels_out, 1, 1) / (fanin)**0.5 if bias else None\n",
    "        \n",
    "    def __repr__(self):\n",
    "        return f\"Conv2d({self.channels_in}ch_in, {self.channels_out}ch_out, {self.kernel_size} kernel_size, {self.stride} stride, {self.padding} padding)\"\n",
    "    \n",
    "    @property\n",
    "    def bias(self):\n",
    "        return self._bias\n",
    "    \n",
    "    @bias.setter\n",
    "    def bias(self, bias): \n",
    "        assert len(bias) == self.channels_out\n",
    "        self._bias = bias.view(self.channels_out, 1, 1)\n",
    "    \n",
    "    def __call__(self, x):\n",
    "        batch_size = x.shape[0]\n",
    "        out_shape_width = (x.shape[-1] + (2*self.padding[1]) - self.kernel_size[1])/(self.stride[1]) + 1\n",
    "        out_shape_height = (x.shape[-2] + (2*self.padding[0]) - self.kernel_size[0])/(self.stride[0]) + 1\n",
    "        \n",
    "        assert out_shape_width.is_integer(), \"Combination of input volume, kernel_size, padding, and stride not acceptable in width dimension\"\n",
    "        assert out_shape_height.is_integer(), \"Combination of input volume, kernel_size, padding, and stride not acceptable in height dimension\"\n",
    "        \n",
    "        out_shape_width = int(out_shape_width)\n",
    "        out_shape_height = int(out_shape_height)\n",
    "        \n",
    "        input_col = self.im2col(x)\n",
    "        weights_row = self.weight.view(self.channels_out, self.kernel_size[0] * self.kernel_size[1] * self.channels_in)\n",
    "#         print(f\"input_col output {tuple(input_col.shape)}:\")\n",
    "#         print(f\"x={x}\")\n",
    "#         print(f\"input_col = {input_col.T}\")\n",
    "#         print(f\"weights_row matrix {tuple(weights_row.shape)}:\")\n",
    "#         print(f\"self.weight = {self.weight}\")\n",
    "#         print(f\"weights_row = {weights_row}\")\n",
    "        self.out = (weights_row @ input_col.T)\n",
    "        self.out = self.out.permute(*torch.arange(self.out.ndim - 1, -1, -1))    # reverse the shape so that the resulting view operation produces correct result\n",
    "        self.out = self.out.view(batch_size, self.channels_out, out_shape_height, out_shape_width)\n",
    "        self.out = self.out + self.bias if self.bias is not None else self.out\n",
    "        return self.out\n",
    "        \n",
    "    def im2col(self, x):\n",
    "        \"\"\"\n",
    "        Our own version of im2col to make efficient conv2d.\n",
    "        Input: input tensor to unfold \n",
    "        Output: 3D tensor (N, C, L) where N is batch size, C is channels_in * self.kernel_size[0] * self.kernel_size[1], and L is how many blocks exist while sliding over a single input slice \n",
    "        \"\"\"\n",
    "        unfold = torch.nn.Unfold(self.kernel_size, 1, self.padding, self.stride)\n",
    "        output = unfold(x)\n",
    "        return output\n",
    "        \n",
    "    def parameters(self): \n",
    "        return [self.weight] + ([] if self.bias is None else [self.bias])\n",
    "\n",
    "# ------------------------------------------------------------------------------\n",
    "class MaxPool2d:\n",
    "    def __init__(self, kernel_size, stride, padding): \n",
    "        self.kernel_size = kernel_size\n",
    "        if isinstance(stride, int): \n",
    "            self.stride = (stride, stride)\n",
    "        if isinstance(padding, int): \n",
    "            self.padding = (padding, padding)\n",
    "    \n",
    "    def __repr__(self): \n",
    "        return f\"Pooling(kernel_size = {self.kernel_size}, stride = {self.stride}, padding = {self.padding})\"\n",
    "    \n",
    "    def __call__(self, x): \n",
    "        x_pad = F.pad(x, self.padding)\n",
    "        pools = []\n",
    "        \n",
    "        size_x = (x_pad.shape[-1] + 2 * self.padding[1] - self.kernel_size[1])/(self.stride[1]) + 1\n",
    "        size_y = (x_pad.shape[-2] + 2 * self.padding[0] - self.kernel_size[0])/(self.stride[0]) + 1\n",
    "        \n",
    "        assert size_x.is_integer(), \"Combination of kernel_size, stride, and padding is invalid for pooling width\"\n",
    "        assert size_y.is_integer(), \"Combination of kernel_size, stride, and padding is invalid for pooling height\"\n",
    "        \n",
    "        size_x = int(size_x)\n",
    "        size_y = int(size_y)\n",
    "        \n",
    "        self.out = torch.zeros(x.shape[0], x.shape[1], size_y, size_x)\n",
    "        \n",
    "        for a in range(self.out.shape[0]):\n",
    "            for b in range(self.out.shape[1]):\n",
    "                for c in range(size_y):\n",
    "                    for d in range (size_x): \n",
    "                        pool = x_pad[a, b, c * kernel_size[0] : (c+1) * kernel_size[0], d*kernel_size[1] : (d+1) * kernel_size[1]]\n",
    "                        self.out[a,b,c,d] = torch.max(pool)\n",
    "        \n",
    "        return self.out\n",
    "    \n",
    "    def parameters(self): \n",
    "        return []\n",
    "    \n",
    "    \n",
    "# ------------------------------------------------------------------------------\n",
    "class Embedding: \n",
    "    def __init__(self, num_embedding, dim_embedding): \n",
    "        self.weight = torch.randn([num_embedding, dim_embedding])\n",
    "    \n",
    "    def __repr__(self):\n",
    "        return f\"Embedding({tuple(self.weight.shape)})\"\n",
    "    \n",
    "    def __call__(self, ix):\n",
    "        self.out = self.weight[ix]\n",
    "        return self.out\n",
    "    \n",
    "    def parameters(self):\n",
    "        return [self.weight]\n",
    "    \n",
    "# ------------------------------------------------------------------------------\n",
    "class Flatten: \n",
    "    \"\"\"\n",
    "    Flattens the input matrix outside of the batch dimension (first dimension)\n",
    "    \"\"\"\n",
    "    def __call__(self, x): \n",
    "        self.out = x.reshape(x.shape[0], -1)\n",
    "        return self.out\n",
    "    \n",
    "    def parameters(self):\n",
    "        return []\n",
    "    \n",
    "    def __repr__(self):\n",
    "        return f\"Flatten()\"\n",
    "\n",
    "# ------------------------------------------------------------------------------\n",
    "class FlattenConsecutive:\n",
    "    def __init__(self, n):\n",
    "        self.n = n\n",
    "        \n",
    "    def __call__(self, x): \n",
    "        B, T, C = x.shape\n",
    "        x = x.view(B, T//self.n, self.n*C)\n",
    "        if x.shape[1] == 1:\n",
    "            x = x.squeeze(1)\n",
    "        self.out = x \n",
    "        return self.out\n",
    "    \n",
    "    def parameters(self):\n",
    "        return []\n",
    "    \n",
    "    def __repr__(self):\n",
    "        return f\"FlattenConsecutive({self.n})\"\n",
    "    \n",
    "# ------------------------------------------------------------------------------\n",
    "class Sequential: \n",
    "    def __init__(self, layers): \n",
    "        self.layers = layers\n",
    "    \n",
    "    def __call__(self, x):\n",
    "        for layer in self.layers: \n",
    "            x = layer(x)\n",
    "        self.out = x\n",
    "        return self.out\n",
    "    \n",
    "    def parameters(self):\n",
    "        # return parameters for all parameters in each layer\n",
    "        return [p for layer in self.layers for p in layer.parameters()]\n",
    "    \n",
    "    def __repr__(self):\n",
    "        return f\"Sequential({self.layers})\"\n",
    "    \n",
    "    def append(self, layer): \n",
    "        self.layers.append(layer)"
   ]
  },
  {
   "cell_type": "code",
   "execution_count": 183,
   "metadata": {},
   "outputs": [
    {
     "name": "stdout",
     "output_type": "stream",
     "text": [
      "tensor([[[[ -5.7869,  -6.8672,  -7.9474],\n",
      "          [-10.1079, -11.1881, -12.2684],\n",
      "          [-14.4288, -15.5091, -16.5893]],\n",
      "\n",
      "         [[  2.6241,   2.9829,   3.3416],\n",
      "          [  4.0591,   4.4179,   4.7766],\n",
      "          [  5.4941,   5.8529,   6.2116]]]], grad_fn=<ConvolutionBackward0>)\n",
      "tensor([[[[ -5.7869,  -6.8672,  -7.9474],\n",
      "          [-10.1079, -11.1881, -12.2684],\n",
      "          [-14.4288, -15.5091, -16.5893]],\n",
      "\n",
      "         [[  2.6241,   2.9829,   3.3416],\n",
      "          [  4.0591,   4.4179,   4.7766],\n",
      "          [  5.4941,   5.8529,   6.2116]]]])\n",
      "True\n",
      "torch.Size([1, 2, 3, 3])\n",
      "torch.Size([1, 2, 3, 3])\n"
     ]
    }
   ],
   "source": [
    "# Test Conv2d Class\n",
    "batch_size = 1\n",
    "channels_in = 2\n",
    "channels_out = 2\n",
    "input_vol_temp = torch.tensor(np.linspace(1,16,16),  dtype=torch.float).view(1, 1, 4, 4)\n",
    "input_vol = torch.zeros(1,channels_in,4,4)\n",
    "input_vol[0, 0,:] = input_vol_temp\n",
    "input_vol[0, 1,:] = -input_vol_temp\n",
    "kernel = torch.randn(channels_out,channels_in,2,2)\n",
    "bias = torch.randn(channels_out)\n",
    "# kernel = torch.tensor([[1.0,2.0],[3.0,4.0]], dtype=torch.float)\n",
    "# kernel = torch.tensor([[[1.0,2.0],[3.0,4.0]], [[-1.0,-2.0],[-3.0,-4.0]]], dtype=torch.float)\n",
    "kernel = kernel.view(channels_out, channels_in, 2, 2)\n",
    "padding = 0\n",
    "stride = 1\n",
    "\n",
    "conv2d_torch = torch.nn.Conv2d(channels_in, channels_out, kernel.shape[-2:], stride=stride, padding=padding, bias=True)\n",
    "conv2d_torch.weight = torch.nn.Parameter(kernel)\n",
    "conv2d_torch.bias = torch.nn.Parameter(bias)\n",
    "conv2d_custom = Conv2d(channels_in, channels_out, kernel.shape[-2:], stride, padding, True)\n",
    "conv2d_custom.weight = kernel\n",
    "conv2d_custom.bias = bias\n",
    "\n",
    "# print(input_vol)\n",
    "# print(kernel)\n",
    "\n",
    "output_torch = conv2d_torch(input_vol)\n",
    "output_custom = conv2d_custom(input_vol)\n",
    "print(output_torch)\n",
    "print(output_custom)\n",
    "print(torch.allclose(output_torch, output_custom))\n",
    "\n",
    "print(output_torch.shape)\n",
    "print(output_custom.shape)"
   ]
  },
  {
   "cell_type": "code",
   "execution_count": 196,
   "metadata": {},
   "outputs": [
    {
     "name": "stdout",
     "output_type": "stream",
     "text": [
      "tensor([[[[-0.3042, -0.4876,  1.5374, -0.3716],\n",
      "          [-1.1112, -0.3590, -0.4527,  0.2870],\n",
      "          [ 1.8273, -0.1763, -0.1464,  1.8674],\n",
      "          [ 1.1164,  2.5324, -0.9529,  0.8656]]]])\n",
      "tensor([[[[-0.3042,  1.5374],\n",
      "          [ 2.5324,  1.8674]]]])\n",
      "tensor([[[[-0.3042,  1.5374],\n",
      "          [ 2.5324,  1.8674]]]])\n",
      "True\n"
     ]
    }
   ],
   "source": [
    "# Test MaxPool2d class\n",
    "stride = 2\n",
    "padding = 0\n",
    "kernel_size = (2, 2)\n",
    "test = torch.randn(1, 1, 4, 4)\n",
    "\n",
    "maxpool2d_custom = MaxPool2d(kernel_size, stride, padding)\n",
    "output_custom = maxpool2d_custom(test)\n",
    "maxpool2d_torch = torch.nn.MaxPool2d(kernel_size, stride, padding)\n",
    "output_torch = maxpool2d_torch(test)\n",
    "\n",
    "print(test)\n",
    "print(output_custom)\n",
    "print(output_torch)\n",
    "print(torch.allclose(output_torch, output_custom))"
   ]
  },
  {
   "cell_type": "code",
   "execution_count": 66,
   "metadata": {},
   "outputs": [],
   "source": [
    "def get_output_vol(input_vol_dims, kernel_size, stride, padding): \n",
    "    if isinstance(padding, int): \n",
    "        padding = (padding, padding)   # symmetrical padding is required \n",
    "    if isinstance(stride, int): \n",
    "        stride = (stride, stride)\n",
    "        \n",
    "    output_width = (input_vol_dims[0] + 2 * padding[0] - kernel_size[0])/stride[0] + 1\n",
    "    output_height = (input_vol_dims[1] + 2 * padding[1] - kernel_size[1])/stride[1] + 1\n",
    "    assert output_width.is_integer(), \"Dimensions of input volume, stride, kernel, and padding do not produce an integer output in width\"\n",
    "    assert output_height.is_integer(), \"Dimensions of input volume, stride, kernel, and padding do not produce an integer output in height\"\n",
    "    \n",
    "    return (int(output_width), int(output_height))\n",
    "    "
   ]
  },
  {
   "cell_type": "code",
   "execution_count": 230,
   "metadata": {},
   "outputs": [
    {
     "name": "stdout",
     "output_type": "stream",
     "text": [
      "Conv1 Parameters = 312\n",
      "Conv2 Parameters = 3612\n",
      "FC1 Parameters = 23040\n",
      "FC2 parameters = 310\n",
      "-------\n",
      "Total Parameters = 27334\n",
      "step 0/2000: loss = 2.6507105827331543\n",
      "step 100/2000: loss = 0.24234949052333832\n",
      "step 200/2000: loss = 0.33899828791618347\n",
      "step 300/2000: loss = 0.07823152840137482\n",
      "step 400/2000: loss = 0.06011519208550453\n",
      "step 500/2000: loss = 0.04176761209964752\n",
      "step 600/2000: loss = 0.05389133840799332\n",
      "step 700/2000: loss = 0.05103294178843498\n",
      "step 800/2000: loss = 0.03600037097930908\n",
      "step 900/2000: loss = 0.05847504734992981\n",
      "step 1000/2000: loss = 0.011911035515367985\n",
      "step 1100/2000: loss = 0.025788037106394768\n",
      "step 1200/2000: loss = 0.10322200506925583\n",
      "step 1300/2000: loss = 0.01268854085355997\n",
      "step 1400/2000: loss = 0.04250943660736084\n",
      "step 1500/2000: loss = 0.055995408445596695\n",
      "step 1600/2000: loss = 0.0193550493568182\n",
      "step 1700/2000: loss = 0.06975571066141129\n",
      "step 1800/2000: loss = 0.05571058765053749\n",
      "step 1900/2000: loss = 0.018178466707468033\n"
     ]
    }
   ],
   "source": [
    "# Implement training of the network\n",
    "# Input Layer: (1x16x16)\n",
    "# Conv1 Layer: (12x16x16) Layer -> 1x12x(5x5) kernel, stride = 1, padding = 2 --> 12*16*16 = 3072 hidden units, 12x(5x5) + 12 = 312 parameters, 3072 * (1 * 5 * 5 + 1) = 79,872 connections \n",
    "# Conv2 Layer: (12x8x8) Layer -> 12x12x(5x5) kernel, stride = 1, padding = 2 --> 12*16*16 = 3072 hidden units, 12*12x5x5 + 12 = 3,612 parameters, 3072 * (12 * 5 * 5 + 1) = 924,672 connections\n",
    "# MaxPool2d Layer: 2x2 kernel, stride = 2, padding = 0 --> 12 * 8 * 8 = 768 hidden units \n",
    "# FC1 Layer: 30 hidden units --> 12*8*8*30 = 23,040 parameters and links \n",
    "# FC2 layer: 10 hidden units -> classification layer --> 30 * 10 + 10 = 310 parameters and links \n",
    "# \n",
    "# Total Connections = 1,097,044\n",
    "# Total Activations = 6,184 -> 6184 * 4 Bytes (float32) = 24 kB\n",
    "# Total Parameters = 96,556 -> 96556 * 4 Bytes (float32) = 377 kB\n",
    "\n",
    "# Implement network architecture\n",
    "# ----------- Input Layer ----------- #\n",
    "input_channels_in = 1\n",
    "input_dims = (16, 16)\n",
    "\n",
    "# ----------- Conv1 Layer ----------- #\n",
    "conv1_kernel_size = (5, 5)\n",
    "conv1_padding = 2\n",
    "conv1_stride = 1\n",
    "conv1_channels_in = 1\n",
    "conv1_channels_out = 12\n",
    "conv1_output_vol = get_output_vol(input_dims, conv1_kernel_size, conv1_stride, conv1_padding)\n",
    "\n",
    "# ----------- Conv2 Layer ----------- #\n",
    "conv2_kernel_size = (5, 5)\n",
    "conv2_padding = 2\n",
    "conv2_stride = 1\n",
    "conv2_channels_in = 12\n",
    "conv2_channels_out = 12\n",
    "conv2_output_vol = get_output_vol(conv1_output_vol, conv2_kernel_size, conv2_stride, conv2_padding)\n",
    "\n",
    "# ---------- MaxPool2 Layer --------- # \n",
    "maxpool1_kernel_size = (2, 2)\n",
    "maxpool1_padding = 0\n",
    "maxpool1_stride = 2\n",
    "maxpool1_output_vol = get_output_vol(conv2_output_vol, maxpool1_kernel_size, maxpool1_stride, maxpool1_padding)\n",
    "\n",
    "# ----------- FC1 Layer ----------- #\n",
    "n_hidden1 = 30\n",
    "\n",
    "# ----------- FC2 Layer ----------- #\n",
    "n_hidden2 = 10\n",
    "\n",
    "# ----------- Other hyperparameters ----------- #\n",
    "batch_size = 32\n",
    "maximum_steps = 2000\n",
    "\n",
    "# Create model architecture\n",
    "model = Sequential([\n",
    "    Conv2d(conv1_channels_in, conv1_channels_out, conv1_kernel_size, conv1_stride, conv1_padding, True), Tanh(),\n",
    "    Conv2d(conv2_channels_in, conv2_channels_out, conv2_kernel_size, conv2_stride, conv2_padding, True), Tanh(),\n",
    "    torch.nn.MaxPool2d(maxpool1_kernel_size, maxpool1_stride, maxpool1_padding),\n",
    "    Flatten(), Linear(fanin=conv2_channels_out * maxpool1_output_vol[0] * maxpool1_output_vol[1], fanout=n_hidden1, bias=False), BatchNorm1d(dim=n_hidden1), Tanh(),\n",
    "    Linear(fanin=n_hidden1, fanout=n_hidden2, bias=True)\n",
    "])\n",
    "params = model.parameters()\n",
    "print(f\"Conv1 Parameters = {sum([torch.numel(p) for p in model.layers[0].parameters()])}\")\n",
    "print(f\"Conv2 Parameters = {sum([torch.numel(p) for p in model.layers[2].parameters()])}\")\n",
    "print(f\"FC1 Parameters = {sum([torch.numel(p) for p in model.layers[6].parameters()])}\")\n",
    "print(f\"FC2 parameters = {sum([torch.numel(p) for p in model.layers[9].parameters()])}\")\n",
    "print(\"-------\")\n",
    "print(f\"Total Parameters = {sum([torch.numel(p) for p in params])}\")\n",
    "\n",
    "# Require grad on parameters and set batchnorm layer to training\n",
    "for p in params: \n",
    "    p.requires_grad = True\n",
    "for layer in model.layers: \n",
    "    layer.training = True\n",
    "\n",
    "losses = []\n",
    "for i in range(maximum_steps): \n",
    "    \n",
    "    # create mini-batch\n",
    "    ix = torch.randint(0, Xtr.shape[0], (batch_size, ))\n",
    "    x = Xtr[ix]\n",
    "    y = Ytr[ix]\n",
    "    \n",
    "    # forward pass\n",
    "    logits = model(x)\n",
    "    lossi = F.cross_entropy(logits, y)\n",
    "    \n",
    "    # backward pass \n",
    "#     for layer in model.layers: \n",
    "#         layer.out.retain_grad()\n",
    "    for p in params: \n",
    "        p.grad = None\n",
    "    lossi.backward()\n",
    "    \n",
    "    # update \n",
    "    lr = 0.1 if i < 1000 else 0.01\n",
    "    for p in params: \n",
    "        p.data -= lr * p.grad\n",
    "    \n",
    "    # track loss statistics\n",
    "    if i % 100 == 0: \n",
    "        print(f\"step {i}/{maximum_steps}: loss = {lossi}\")\n",
    "    losses.append(lossi.data)\n",
    "    \n",
    "#     if i < 2: \n",
    "#         break "
   ]
  },
  {
   "cell_type": "code",
   "execution_count": 231,
   "metadata": {},
   "outputs": [
    {
     "data": {
      "text/plain": [
       "[<matplotlib.lines.Line2D at 0x7f79893b7d90>]"
      ]
     },
     "execution_count": 231,
     "metadata": {},
     "output_type": "execute_result"
    },
    {
     "data": {
      "image/png": "[encoded data removed]",
      "text/plain": [
       "<Figure size 432x288 with 1 Axes>"
      ]
     },
     "metadata": {
      "needs_background": "light"
     },
     "output_type": "display_data"
    }
   ],
   "source": [
    "plt.plot(np.log10(losses))"
   ]
  },
  {
   "cell_type": "code",
   "execution_count": 232,
   "metadata": {},
   "outputs": [
    {
     "name": "stdout",
     "output_type": "stream",
     "text": [
      "Training Loss = 0.01957547850906849\n",
      "Test Loss = 0.1335938423871994\n"
     ]
    }
   ],
   "source": [
    "# measure train vs. test set \n",
    "\n",
    "# first set BatchNorm to run-mode\n",
    "for layer in model.layers: \n",
    "    layer.training = False\n",
    "\n",
    "def split_loss(split): \n",
    "    X, Y = {\n",
    "        'train': (Xtr, Ytr),\n",
    "        'test': (Xte, Yte)\n",
    "    }[split]\n",
    "    \n",
    "    # forward pass\n",
    "    logits = model(X) \n",
    "    loss = F.cross_entropy(logits, Y)\n",
    "    \n",
    "    return loss \n",
    "\n",
    "print(f\"Training Loss = {split_loss('train')}\")\n",
    "print(f\"Test Loss = {split_loss('test')}\")"
   ]
  },
  {
   "cell_type": "code",
   "execution_count": 234,
   "metadata": {},
   "outputs": [
    {
     "data": {
      "image/png": "[encoded data removed]",
      "text/plain": [
       "<Figure size 432x288 with 1 Axes>"
      ]
     },
     "metadata": {
      "needs_background": "light"
     },
     "output_type": "display_data"
    },
    {
     "data": {
      "image/png": "[encoded data removed]",
      "text/plain": [
       "<Figure size 432x288 with 1 Axes>"
      ]
     },
     "metadata": {
      "needs_background": "light"
     },
     "output_type": "display_data"
    },
    {
     "data": {
      "image/png": "[encoded data removed]",
      "text/plain": [
       "<Figure size 432x288 with 1 Axes>"
      ]
     },
     "metadata": {
      "needs_background": "light"
     },
     "output_type": "display_data"
    },
    {
     "data": {
      "image/png": "[encoded data removed]",
      "text/plain": [
       "<Figure size 432x288 with 1 Axes>"
      ]
     },
     "metadata": {
      "needs_background": "light"
     },
     "output_type": "display_data"
    },
    {
     "data": {
      "image/png": "[encoded data removed]",
      "text/plain": [
       "<Figure size 432x288 with 1 Axes>"
      ]
     },
     "metadata": {
      "needs_background": "light"
     },
     "output_type": "display_data"
    },
    {
     "data": {
      "image/png": "[encoded data removed]",
      "text/plain": [
       "<Figure size 432x288 with 1 Axes>"
      ]
     },
     "metadata": {
      "needs_background": "light"
     },
     "output_type": "display_data"
    },
    {
     "data": {
      "image/png": "[encoded data removed]",
      "text/plain": [
       "<Figure size 432x288 with 1 Axes>"
      ]
     },
     "metadata": {
      "needs_background": "light"
     },
     "output_type": "display_data"
    },
    {
     "data": {
      "image/png": "[encoded data removed]",
      "text/plain": [
       "<Figure size 432x288 with 1 Axes>"
      ]
     },
     "metadata": {
      "needs_background": "light"
     },
     "output_type": "display_data"
    },
    {
     "data": {
      "image/png": "[encoded data removed]",
      "text/plain": [
       "<Figure size 432x288 with 1 Axes>"
      ]
     },
     "metadata": {
      "needs_background": "light"
     },
     "output_type": "display_data"
    },
    {
     "data": {
      "image/png": "[encoded data removed]",
      "text/plain": [
       "<Figure size 432x288 with 1 Axes>"
      ]
     },
     "metadata": {
      "needs_background": "light"
     },
     "output_type": "display_data"
    }
   ],
   "source": [
    "# first set BatchNorm to run-mode\n",
    "for layer in model.layers: \n",
    "    layer.training = False\n",
    "\n",
    "for i in range(10):\n",
    "    # sample the model \n",
    "    ix = torch.randint(0, Xte.shape[0], (1, ))\n",
    "    x = Xte[ix]\n",
    "    y = Yte[ix]\n",
    "\n",
    "    logits = model(x)\n",
    "    probs = logits.exp()\n",
    "    select = torch.multinomial(probs, 1).item()\n",
    "\n",
    "    plt.figure()\n",
    "    plt.imshow(x.squeeze())\n",
    "    plt.title(f\"prediction == {select}, actual == {y.item()}\")\n"
   ]
  },
  {
   "cell_type": "code",
   "execution_count": null,
   "metadata": {},
   "outputs": [],
   "source": []
  }
 ],
 "metadata": {
  "kernelspec": {
   "display_name": "Python 3",
   "language": "python",
   "name": "python3"
  },
  "language_info": {
   "codemirror_mode": {
    "name": "ipython",
    "version": 3
   },
   "file_extension": ".py",
   "mimetype": "text/x-python",
   "name": "python",
   "nbconvert_exporter": "python",
   "pygments_lexer": "ipython3",
   "version": "3.8.5"
  }
 },
 "nbformat": 4,
 "nbformat_minor": 4
}
